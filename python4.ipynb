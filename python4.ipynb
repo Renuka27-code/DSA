{
 "cells": [
  {
   "cell_type": "markdown",
   "id": "c39967b2",
   "metadata": {},
   "source": [
    "DSA"
   ]
  },
  {
   "cell_type": "markdown",
   "id": "9f74d93e",
   "metadata": {},
   "source": [
    "find the max element in array"
   ]
  },
  {
   "cell_type": "code",
   "execution_count": 1,
   "id": "9935c4f1",
   "metadata": {},
   "outputs": [
    {
     "name": "stdout",
     "output_type": "stream",
     "text": [
      "30\n"
     ]
    }
   ],
   "source": [
    "array=[10,20,30]\n",
    "max_array=max(array)\n",
    "print(max_array)"
   ]
  },
  {
   "cell_type": "markdown",
   "id": "d9d739d5",
   "metadata": {},
   "source": [
    "binary search"
   ]
  },
  {
   "cell_type": "code",
   "execution_count": 2,
   "id": "120a0665",
   "metadata": {},
   "outputs": [
    {
     "name": "stdout",
     "output_type": "stream",
     "text": [
      "Element found at 4\n"
     ]
    }
   ],
   "source": [
    "def binary_search(arr, target):\n",
    "    left, right = 0, len(arr) - 1\n",
    "    while left <= right:\n",
    "        mid = (left + right) // 2\n",
    "        if arr[mid] == target:\n",
    "            return mid  \n",
    "        elif arr[mid] < target:\n",
    "            left = mid + 1\n",
    "        else:\n",
    "            right = mid - 1\n",
    "    return -1  \n",
    "arr= [2, 4, 7, 10, 23, 45, 56]\n",
    "target = 23\n",
    "result = binary_search(arr, target)\n",
    "if result != -1:\n",
    "    print(f\"Element found at {result}\")\n",
    "else:\n",
    "    print(\"Element not found\")"
   ]
  },
  {
   "cell_type": "markdown",
   "id": "26fafe8f",
   "metadata": {},
   "source": [
    "sum len avg"
   ]
  },
  {
   "cell_type": "code",
   "execution_count": 5,
   "id": "7b6aea7e",
   "metadata": {},
   "outputs": [
    {
     "name": "stdout",
     "output_type": "stream",
     "text": [
      "64\n",
      "6\n",
      "Average: 10.666666666666666\n"
     ]
    }
   ],
   "source": [
    "a=[1,12,13,14,16,8]\n",
    "print(sum(a))\n",
    "print(len(a))\n",
    "avg=sum(a)/len(a)\n",
    "print(f\"Average: {avg}\")"
   ]
  },
  {
   "cell_type": "markdown",
   "id": "b413cd70",
   "metadata": {},
   "source": [
    " Finding Duplicates\n",
    "\n",
    "Identify duplicate names in a list of users (like checking for duplicate user IDs in a database)."
   ]
  },
  {
   "cell_type": "code",
   "execution_count": null,
   "id": "eeff4662",
   "metadata": {},
   "outputs": [
    {
     "name": "stdout",
     "output_type": "stream",
     "text": [
      "{'jai', 'shiva'}\n"
     ]
    }
   ],
   "source": [
    "data = [\"shiva\", \"prabha\", \"eswar\", \"jai\", \"shiva\", \"jai\"]\n",
    "duplicates = set([name for name in data if data.count(name) > 1])\n",
    "if duplicates:\n",
    "    print(duplicates)\n",
    "else:\n",
    "    print(not duplicates)"
   ]
  },
  {
   "cell_type": "markdown",
   "id": "d1ad7fbf",
   "metadata": {},
   "source": [
    "linear search"
   ]
  },
  {
   "cell_type": "markdown",
   "id": "3a1e8076",
   "metadata": {},
   "source": [
    "Find a product by name in an inventory list."
   ]
  },
  {
   "cell_type": "code",
   "execution_count": null,
   "id": "51b40a6a",
   "metadata": {},
   "outputs": [
    {
     "name": "stdout",
     "output_type": "stream",
     "text": [
      "found rebel at index 1\n"
     ]
    }
   ],
   "source": [
    "def linear_search(products,target):\n",
    "    for i,product in enumerate(products):\n",
    "        if product == target:\n",
    "            return 1\n",
    "    return -1\n",
    "hero=[\"prabhas\",\"mirchi\",\"rebel\",\"munna\"]\n",
    "target=\"rebel\"\n",
    "result=linear_search(hero,target)\n",
    "print(f\"found {target} at index {result}\" if result != -1 else f\"{target} not found\")"
   ]
  },
  {
   "cell_type": "code",
   "execution_count": 16,
   "id": "29b9c2f9",
   "metadata": {},
   "outputs": [
    {
     "name": "stdout",
     "output_type": "stream",
     "text": [
      "Product found at index: 1\n"
     ]
    }
   ],
   "source": [
    "arr=[\"r\",\"e\",\"n\",\"u\"]\n",
    "target=\"e\"\n",
    "for i in range(len(arr)):\n",
    "    if arr[i] == target:\n",
    "        print(f\"Product found at index: {i}\")\n",
    "        break\n",
    "else:\n",
    "    print(\"Product not found\")"
   ]
  },
  {
   "cell_type": "code",
   "execution_count": 15,
   "id": "eeb25379",
   "metadata": {},
   "outputs": [
    {
     "name": "stdout",
     "output_type": "stream",
     "text": [
      "1\n"
     ]
    }
   ],
   "source": [
    "lst=list((input(\"enter elements:\").split()))\n",
    "target=input()\n",
    "for i in range(len(lst)):\n",
    "    if lst[i]==target:\n",
    "        print(i)\n",
    "        break\n",
    "else:\n",
    "    print(\"not found\")"
   ]
  },
  {
   "cell_type": "markdown",
   "id": "06539baf",
   "metadata": {},
   "source": [
    "sorting\n"
   ]
  },
  {
   "cell_type": "code",
   "execution_count": 24,
   "id": "d48dbf2c",
   "metadata": {},
   "outputs": [
    {
     "name": "stdout",
     "output_type": "stream",
     "text": [
      "['10', '20', '40', '50', '60', '70', '80', '90']\n"
     ]
    }
   ],
   "source": [
    "arr=[\"10\",\"20\",\"40\",\"50\"]\n",
    "arr1=[\"90\",\"80\",\"70\",\"60\"]\n",
    "print(sorted(arr+arr1))"
   ]
  },
  {
   "cell_type": "markdown",
   "id": "2488e87e",
   "metadata": {},
   "source": [
    "“Write a Python function to find the first and last occurrence of a target in a sorted array.”"
   ]
  },
  {
   "cell_type": "code",
   "execution_count": 19,
   "id": "7790a9d5",
   "metadata": {},
   "outputs": [
    {
     "name": "stdout",
     "output_type": "stream",
     "text": [
      "First occurrence: 1, Last occurrence: 3\n"
     ]
    }
   ],
   "source": [
    "def find_first_last(arr, target):\n",
    "    first, last = -1, -1\n",
    "    # Find first occurrence\n",
    "    for i in range(len(arr)):\n",
    "        if arr[i] == target:\n",
    "            first = i\n",
    "            break\n",
    "    # Find last occurrence\n",
    "    for i in range(len(arr)-1, -1, -1):\n",
    "        if arr[i] == target:\n",
    "            last = i\n",
    "            break\n",
    "    return first, last\n",
    "\n",
    "# Example usage\n",
    "arr = [1, 2, 2, 2, 3, 4, 5]\n",
    "target = 2\n",
    "first, last = find_first_last(arr, target)\n",
    "print(f\"First occurrence: {first}, Last occurrence: {last}\")"
   ]
  },
  {
   "cell_type": "markdown",
   "id": "3f3243d1",
   "metadata": {},
   "source": [
    "“Write a Python function to sort a list of product prices and return the top 3 most expensive products.”"
   ]
  },
  {
   "cell_type": "code",
   "execution_count": 28,
   "id": "61655ab3",
   "metadata": {},
   "outputs": [
    {
     "ename": "AttributeError",
     "evalue": "'str' object has no attribute 'append'",
     "output_type": "error",
     "traceback": [
      "\u001b[31m---------------------------------------------------------------------------\u001b[39m",
      "\u001b[31mAttributeError\u001b[39m                            Traceback (most recent call last)",
      "\u001b[36mCell\u001b[39m\u001b[36m \u001b[39m\u001b[32mIn[28]\u001b[39m\u001b[32m, line 6\u001b[39m\n\u001b[32m      4\u001b[39m     products = \u001b[38;5;28minput\u001b[39m(\u001b[33m\"\u001b[39m\u001b[33mEnter item name: \u001b[39m\u001b[33m\"\u001b[39m)\n\u001b[32m      5\u001b[39m     price = \u001b[38;5;28mfloat\u001b[39m(\u001b[38;5;28minput\u001b[39m(\u001b[33m\"\u001b[39m\u001b[33mEnter price: \u001b[39m\u001b[33m\"\u001b[39m))\n\u001b[32m----> \u001b[39m\u001b[32m6\u001b[39m     \u001b[43mproducts\u001b[49m\u001b[43m.\u001b[49m\u001b[43mappend\u001b[49m((name, price))\n\u001b[32m      7\u001b[39m top3 = \u001b[38;5;28msorted\u001b[39m(products, key=\u001b[38;5;28;01mlambda\u001b[39;00m x: x[\u001b[32m1\u001b[39m], reverse=\u001b[38;5;28;01mTrue\u001b[39;00m)[:\u001b[32m3\u001b[39m]\n\u001b[32m      8\u001b[39m \u001b[38;5;28mprint\u001b[39m(\u001b[33m\"\u001b[39m\u001b[33mTop 3 expensive things:\u001b[39m\u001b[33m\"\u001b[39m)\n",
      "\u001b[31mAttributeError\u001b[39m: 'str' object has no attribute 'append'"
     ]
    }
   ],
   "source": [
    "products = []\n",
    "n = int(input(\"Enter number of items: \"))\n",
    "for _ in range(n):\n",
    "    products = input(\"Enter item name: \")\n",
    "    price = float(input(\"Enter price: \"))\n",
    "    products.append((name, price))\n",
    "top3 = sorted(products, key=lambda x: x[1], reverse=True)[:3]\n",
    "print(\"Top 3 expensive things:\")\n",
    "for name, price in top3:\n",
    "    print(f\"{name}: {price}\")"
   ]
  },
  {
   "cell_type": "code",
   "execution_count": 32,
   "id": "5d72b619",
   "metadata": {},
   "outputs": [
    {
     "name": "stdout",
     "output_type": "stream",
     "text": [
      "top 3 expensive products prices  are: [980, 900, 700]\n"
     ]
    }
   ],
   "source": [
    "prices = [250,300,700,600,900,980]\n",
    "x=sorted(prices,reverse=True)\n",
    "sorted_prices = ( x[:3])\n",
    "print(f\"top 3 expensive products prices  are: {sorted_prices}\")"
   ]
  },
  {
   "cell_type": "code",
   "execution_count": 33,
   "id": "5b0b78e8",
   "metadata": {},
   "outputs": [
    {
     "ename": "SyntaxError",
     "evalue": "invalid non-printable character U+00A0 (2210935929.py, line 4)",
     "output_type": "error",
     "traceback": [
      "  \u001b[36mCell\u001b[39m\u001b[36m \u001b[39m\u001b[32mIn[33]\u001b[39m\u001b[32m, line 4\u001b[39m\n\u001b[31m    \u001b[39m\u001b[31mprint(\"Top 3 most expensive products:\", top_3)\u001b[39m\n                                                  ^\n\u001b[31mSyntaxError\u001b[39m\u001b[31m:\u001b[39m invalid non-printable character U+00A0\n"
     ]
    }
   ],
   "source": [
    "def top_3_prod():\n",
    "    products = [int(x) for x in input(\"Enter product prices: \").split()]\n",
    "    top_3 = sorted(products, reverse=True)[:3] \n",
    "    print(\"Top 3 most expensive products:\", top_3) \n",
    "top_3_prod()"
   ]
  },
  {
   "cell_type": "markdown",
   "id": "b4f40029",
   "metadata": {},
   "source": [
    "Problem 2: Search in Rotated Sorted Array (Medium)**\n",
    "\n",
    "*Description:* Given a sorted array that has been rotated at an unknown pivot (e.g., [4, 5, 6, 1, 2, 3]), find a target value using binary search. Return the index or -1 if not found.\n",
    "\n",
    "Example:\n",
    "          Input: arr = [4, 5, 6, 1, 2, 3], target = 5\n",
    "          Output: 1\n",
    "- Searching for a specific timestamp in a rotated log (e.g., logs split across days)."
   ]
  },
  {
   "cell_type": "code",
   "execution_count": 1,
   "id": "d3b10981",
   "metadata": {},
   "outputs": [
    {
     "name": "stdout",
     "output_type": "stream",
     "text": [
      "1\n"
     ]
    }
   ],
   "source": [
    "def search_rotated_array(arr, target):\n",
    "    left, right = 0, len(arr) - 1\n",
    "    \n",
    "    while left <= right:\n",
    "        mid = (left + right) // 2\n",
    "        \n",
    "        if arr[mid] == target:\n",
    "            return mid\n",
    "        \n",
    "        # Check if the left half is sorted\n",
    "        if arr[left] <= arr[mid]:\n",
    "            if arr[left] <= target < arr[mid]:  # Target in left half\n",
    "                right = mid - 1\n",
    "            else:  # Target in right half\n",
    "                left = mid + 1\n",
    "        else:\n",
    "            # Right half is sorted\n",
    "            if arr[mid] < target <= arr[right]:  # Target in right half\n",
    "                left = mid + 1\n",
    "            else:  # Target in left half\n",
    "                right = mid - 1\n",
    "    \n",
    "    return -1  # Target not found\n",
    "arr = [4, 5, 6, 1, 2, 3]\n",
    "target = 5\n",
    "print(search_rotated_array(arr, target))  # Output: 1\n"
   ]
  },
  {
   "cell_type": "markdown",
   "id": "8a2cc634",
   "metadata": {},
   "source": [
    "*Problem 3: Count Elements Greater Than Target (Easy)*\n",
    "*Description:* Given an unsorted array and a target value, use linear search to count how many elements are greater than the target. Optimize it if possible.\n",
    "- Example:\n",
    "          - Input: arr = [10, 20, 15, 30, 5], target = 15\n",
    "          - Output: 2 (20 and 30 are greater than 15)\n",
    "Enduku: Counting machines with output above a threshold in a production log."
   ]
  },
  {
   "cell_type": "code",
   "execution_count": 2,
   "id": "f41c96e5",
   "metadata": {},
   "outputs": [
    {
     "name": "stdout",
     "output_type": "stream",
     "text": [
      "2\n"
     ]
    }
   ],
   "source": [
    "def count_greater_than_target(arr, target):\n",
    "    count = 0\n",
    "    for num in arr:\n",
    "        if num > target:\n",
    "            count += 1\n",
    "    return count\n",
    "arr = [10, 20, 15, 30, 5]\n",
    "target = 15\n",
    "print(count_greater_than_target(arr, target))  # Output: 2\n"
   ]
  },
  {
   "cell_type": "code",
   "execution_count": 4,
   "id": "fcc1f8e8",
   "metadata": {},
   "outputs": [
    {
     "name": "stdout",
     "output_type": "stream",
     "text": [
      "2\n"
     ]
    }
   ],
   "source": [
    "def count_gt(arr, target):\n",
    "    return sum(x > target for x in arr)\n",
    "arr = [10, 20, 15, 30, 5]\n",
    "target = 15\n",
    "print(count_greater_than_target(arr, target)) \n"
   ]
  },
  {
   "cell_type": "code",
   "execution_count": null,
   "id": "ee887723",
   "metadata": {},
   "outputs": [],
   "source": []
  }
 ],
 "metadata": {
  "kernelspec": {
   "display_name": "Algonex-industrial",
   "language": "python",
   "name": "python3"
  },
  "language_info": {
   "codemirror_mode": {
    "name": "ipython",
    "version": 3
   },
   "file_extension": ".py",
   "mimetype": "text/x-python",
   "name": "python",
   "nbconvert_exporter": "python",
   "pygments_lexer": "ipython3",
   "version": "3.13.5"
  }
 },
 "nbformat": 4,
 "nbformat_minor": 5
}
